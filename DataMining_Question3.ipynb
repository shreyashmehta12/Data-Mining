{
 "cells": [
  {
   "cell_type": "code",
   "execution_count": 1,
   "id": "a7c1bd8d",
   "metadata": {},
   "outputs": [
    {
     "name": "stdout",
     "output_type": "stream",
     "text": [
      "Gini scores for the clusters: [0.34963579604578565, 0.0, 0.09972299168975085]\n"
     ]
    }
   ],
   "source": [
    "#For Supervised evaluation using the GINI score of the clusters you obtain from k means with k=3 with respect to the labels\n",
    "\n",
    "from sklearn.datasets import load_iris\n",
    "from sklearn.cluster import KMeans\n",
    "import numpy as np\n",
    "\n",
    "# Load the Iris dataset\n",
    "iris = load_iris()\n",
    "X = iris.data\n",
    "y = iris.target\n",
    "\n",
    "# Train a K-means clustering model with k=3\n",
    "kmeans = KMeans(n_clusters=3, random_state=0).fit(X)\n",
    "\n",
    "# Assign each sample to its nearest centroid and create a list of labels for each cluster\n",
    "labels = [[] for i in range(3)]\n",
    "for i in range(len(X)):\n",
    "    label = kmeans.labels_[i]\n",
    "    labels[label].append(y[i])\n",
    "\n",
    "# Calculate the Gini score for each cluster\n",
    "gini_scores = []\n",
    "for i in range(3):\n",
    "    cluster_size = len(labels[i])\n",
    "    if cluster_size > 0:\n",
    "        p_i = np.array([np.sum(labels[i] == j) for j in np.unique(y)]) / cluster_size\n",
    "        gini_score = 1 - np.sum(p_i ** 2)\n",
    "    else:\n",
    "        gini_score = 0\n",
    "    gini_scores.append(gini_score)\n",
    "\n",
    "print(\"Gini scores for the clusters:\", gini_scores)"
   ]
  },
  {
   "cell_type": "code",
   "execution_count": null,
   "id": "8c34a0bb",
   "metadata": {},
   "outputs": [],
   "source": [
    "#Cluster 1 has the highest Gini score, indicating that it is the most homogeneous cluster with respect to the true labels of the samples. This means that most of the samples in this cluster belong to the same class.\n",
    "#Cluster 2 has a Gini score of 0, which means that all the samples in this cluster belong to the same class.\n",
    "#Cluster 3 has a lower Gini score than Cluster 1, indicating that it is less homogeneous with respect to the true labels of the samples. "
   ]
  }
 ],
 "metadata": {
  "kernelspec": {
   "display_name": "Python 3 (ipykernel)",
   "language": "python",
   "name": "python3"
  },
  "language_info": {
   "codemirror_mode": {
    "name": "ipython",
    "version": 3
   },
   "file_extension": ".py",
   "mimetype": "text/x-python",
   "name": "python",
   "nbconvert_exporter": "python",
   "pygments_lexer": "ipython3",
   "version": "3.10.4"
  }
 },
 "nbformat": 4,
 "nbformat_minor": 5
}
